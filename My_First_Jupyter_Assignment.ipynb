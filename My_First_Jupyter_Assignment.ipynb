{
 "cells": [
  {
   "cell_type": "markdown",
   "id": "1935d004-4765-4f7e-8131-8c027ec6dddf",
   "metadata": {},
   "source": [
    "<h1>My_First_Jupyter_Assignment<h1>"
   ]
  },
  {
   "cell_type": "markdown",
   "id": "c4cdd417-b833-4cca-a758-ea2b30f1e78c",
   "metadata": {},
   "source": [
    "<h3>In this notebook, Data Science Tools and Ecosystem are summarized.</h3>"
   ]
  },
  {
   "cell_type": "markdown",
   "id": "db25b2b9-c308-4105-ab63-9c04efcdef57",
   "metadata": {},
   "source": [
    "<h3>Objectives:</h3>\n",
    "\n",
    "<li>List popular languages that Data Scientists use.</li>\n",
    "<li>List commonly used libraries used by Data Scientists.</li>\n",
    "<li>Comment on Data Science tools.</li>"
   ]
  },
  {
   "cell_type": "markdown",
   "id": "5fe65b06-fa6c-4a49-97b2-69b7a2b0f585",
   "metadata": {},
   "source": [
    "<h3>In this notebook, Data Science Tools and Ecosystem are summarized.</h3>"
   ]
  },
  {
   "cell_type": "markdown",
   "id": "e57bf8af-6efd-40b9-a2b9-2e28bd2b17a3",
   "metadata": {},
   "source": [
    "<h3>Some of the popular languages that Data Scientists use are:</h3>\n",
    "    <ol>\n",
    "       <li>Python</li>\n",
    "        <li>R</li>\n",
    "        <li>SQL</li>\n",
    "        <li>Scala</li>\n",
    "        <li>Julia</li>\n",
    "        <li>Java</li>\n",
    "        <li>JavaScript</li>\n",
    "        <li>C/C++</li>\n",
    "    </ol>"
   ]
  },
  {
   "cell_type": "markdown",
   "id": "831de72c-35a4-4b6d-98e1-e8b031dc3a2c",
   "metadata": {},
   "source": [
    "<h3>Some of the commonly used libraries used by Data Scientists include</h3>\n",
    "    <ol>\n",
    "        <li>TensorFlow.</li>\n",
    "        <li>NumPy</li>\n",
    "        <li>SciPy</li>\n",
    "        <li>Pandas</li>\n",
    "        <li>Matplotlib</li>\n",
    "        <li>Keras</li>\n",
    "        <li>SciKit-Learn</li>\n",
    "        <li>PyTorch</li>\n",
    "        <li>Scrapy</li>\n",
    "        <li>LightGBM</li>\n",
    "        <li>NuPIC</li>\n",
    "        \n",
    "</ol>"
   ]
  },
  {
   "cell_type": "markdown",
   "id": "df0d40dc-89f6-4a8c-aa69-ecec47a8f167",
   "metadata": {
    "tags": []
   },
   "source": [
    "\n",
    "| Data Science Tools |\n",
    "| ------ |\n",
    "| Jupyter |\n",
    "| RStudio |\n",
    "| GitHub |\n",
    "|R & Python|\n",
    " |Apache Spark and Hadoop|\n"
   ]
  },
  {
   "cell_type": "markdown",
   "id": "c6d4d85a-288c-4bcd-9420-2e5e32857f49",
   "metadata": {
    "tags": []
   },
   "source": [
    "<h3>Below are a few examples of evaluating arithmetic expressions in Python</h3>"
   ]
  },
  {
   "cell_type": "code",
   "execution_count": 4,
   "id": "f63589c6-b349-4149-a3aa-00c375ae8899",
   "metadata": {
    "tags": []
   },
   "outputs": [
    {
     "data": {
      "text/plain": [
       "25"
      ]
     },
     "execution_count": 4,
     "metadata": {},
     "output_type": "execute_result"
    }
   ],
   "source": [
    "(2*8)+9"
   ]
  },
  {
   "cell_type": "code",
   "execution_count": 7,
   "id": "c82020c2-3ee3-487c-bcb3-b000c5856de4",
   "metadata": {
    "tags": []
   },
   "outputs": [
    {
     "name": "stdout",
     "output_type": "stream",
     "text": [
      "8.0\n"
     ]
    }
   ],
   "source": [
    "minutes = 480\n",
    "hours = minutes/60\n",
    "print(hours)"
   ]
  },
  {
   "cell_type": "markdown",
   "id": "3aabc1e2-434a-4fc4-9764-7ed563eae04a",
   "metadata": {},
   "source": [
    "<h2>Author</h2>Ilya Gaevskii"
   ]
  },

 ],
 "metadata": {
  "kernelspec": {
   "display_name": "Python",
   "language": "python",
   "name": "conda-env-python-py"
  },
  "language_info": {
   "codemirror_mode": {
    "name": "ipython",
    "version": 3
   },
   "file_extension": ".py",
   "mimetype": "text/x-python",
   "name": "python",
   "nbconvert_exporter": "python",
   "pygments_lexer": "ipython3",
   "version": "3.7.12"
  }
 },
 "nbformat": 4,
 "nbformat_minor": 5
}
